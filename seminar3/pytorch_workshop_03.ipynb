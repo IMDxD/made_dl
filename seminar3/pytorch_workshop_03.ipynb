{
 "cells": [
  {
   "cell_type": "markdown",
   "metadata": {},
   "source": [
    "# Семинар по Pytorch.\n"
   ]
  },
  {
   "cell_type": "code",
   "execution_count": null,
   "metadata": {},
   "outputs": [],
   "source": [
    "import matplotlib.pyplot as plt\n",
    "%matplotlib inline\n",
    "import numpy as np\n",
    "# import cv2\n",
    "import sklearn"
   ]
  },
  {
   "cell_type": "markdown",
   "metadata": {},
   "source": [
    "Установка: https://pytorch.org/get-started/locally/  \n",
    "В этом ноутбуке будут разобраны основные особенности фреймворка Pytorch. Pytorch - это как Numpy, только умеет эффективно автоматически считать градиенты."
   ]
  },
  {
   "cell_type": "code",
   "execution_count": null,
   "metadata": {},
   "outputs": [],
   "source": [
    "import torch\n",
    "print (torch.__version__)"
   ]
  },
  {
   "cell_type": "code",
   "execution_count": null,
   "metadata": {},
   "outputs": [],
   "source": [
    "import torchvision\n",
    "from torch import nn\n",
    "import os\n",
    "from torchvision.datasets import MNIST\n",
    "import torchvision.transforms as transforms\n",
    "import tqdm"
   ]
  },
  {
   "cell_type": "code",
   "execution_count": null,
   "metadata": {},
   "outputs": [],
   "source": [
    "# проверить, доступна ли у вас cuda. \n",
    "torch.cuda.is_available()"
   ]
  },
  {
   "cell_type": "markdown",
   "metadata": {},
   "source": [
    "# Базовые операции"
   ]
  },
  {
   "cell_type": "code",
   "execution_count": null,
   "metadata": {
    "scrolled": true
   },
   "outputs": [],
   "source": [
    "# numpy\n",
    "\n",
    "x = np.arange(25).reshape(5, 5)\n",
    "\n",
    "print(\"X :\\n {}\\n\".format(x))\n",
    "print(\"X.shape : {}\\n \".format(x.shape))\n",
    "print(\"Возвести в квадрат:\\n {}\\n\".format(x * x))\n",
    "print(\"X*X^T  :\\n {}\\n\".format(np.matmul(x, x.T)))\n",
    "print(\"Cреднее по столбцам :\\n {}\\n\".format(np.mean(x, axis=0)))\n",
    "print(\"Сумма по строкам:\\n {}\\n\".format(np.cumsum(x, axis=1)))"
   ]
  },
  {
   "cell_type": "code",
   "execution_count": null,
   "metadata": {},
   "outputs": [],
   "source": [
    "# torch\n",
    "\n",
    "x = torch.arange(25).reshape(5, 5).float()\n",
    "\n",
    "print(\"X :\\n {}\\n\".format(x))\n",
    "print(\"X.shape : {}\\n \".format(x.shape))\n",
    "print(\"Возвести в квадрат:\\n {}\\n\".format(x * x))\n",
    "print(\"X*X^T  :\\n {}\\n\".format(torch.matmul(x, x.T)))\n",
    "print(\"Cреднее по столбцам :\\n {}\\n\".format(torch.mean(x, axis=0)))\n",
    "print(\"Сумма по строкам:\\n {}\\n\".format(torch.cumsum(x, axis=1)))"
   ]
  },
  {
   "cell_type": "markdown",
   "metadata": {},
   "source": [
    "# Pytorch - почти Numpy.\n",
    "Вы можете создавать тензоры, смотреть на их градиенты, не создавая сессии как в tensorflow.\n",
    "Названия методов очень похожи. Если они отличаются - загляните в таблицу: https://github.com/torch/torch7/wiki/Torch-for-Numpy-users\n"
   ]
  },
  {
   "cell_type": "markdown",
   "metadata": {},
   "source": [
    "# Pytroch сам считает backpropagation для нас с помощью модуля autograd"
   ]
  },
  {
   "cell_type": "code",
   "execution_count": null,
   "metadata": {},
   "outputs": [],
   "source": [
    "# создаем тензор\n",
    "preds = torch.zeros(5, requires_grad=True)\n",
    "\n",
    "# вектор предсказаний\n",
    "labels = torch.ones(5, requires_grad=True)\n",
    "\n",
    "# loss: MAE\n",
    "loss = torch.mean(torch.abs(labels - preds))\n",
    "\n",
    "print (loss)\n",
    "\n",
    "# запускаем backprop\n",
    "\n",
    "loss.backward()"
   ]
  },
  {
   "cell_type": "code",
   "execution_count": null,
   "metadata": {},
   "outputs": [],
   "source": [
    "# градиенты доступны в поле .grad:\n",
    "preds.grad"
   ]
  },
  {
   "cell_type": "code",
   "execution_count": null,
   "metadata": {},
   "outputs": [],
   "source": [
    "# градиенты можно занулить\n",
    "preds.grad.zero_()"
   ]
  },
  {
   "cell_type": "code",
   "execution_count": null,
   "metadata": {},
   "outputs": [],
   "source": [
    "# теперь градиенты снова 0\n",
    "preds.grad"
   ]
  },
  {
   "cell_type": "markdown",
   "metadata": {},
   "source": [
    "###  Градиенты накапливаются при каждом вызове backward()"
   ]
  },
  {
   "cell_type": "code",
   "execution_count": null,
   "metadata": {},
   "outputs": [],
   "source": [
    "# создаем тензор\n",
    "preds = torch.zeros(5, requires_grad=True)\n",
    "\n",
    "# вектор предсказаний\n",
    "labels = torch.ones(5, requires_grad=True)\n",
    "\n",
    "# loss: MAE\n",
    "loss = torch.mean(torch.abs(labels - preds))\n",
    "\n",
    "print (loss)\n",
    "\n",
    "# запускаем backprop\n",
    "for i in range(5):\n",
    "    loss.backward(retain_graph=True)\n",
    "    print (i, preds.grad)"
   ]
  },
  {
   "cell_type": "markdown",
   "metadata": {},
   "source": [
    "# Пишем свою логистическую регрессию на пайторче"
   ]
  },
  {
   "cell_type": "code",
   "execution_count": null,
   "metadata": {},
   "outputs": [],
   "source": [
    "from sklearn.datasets import make_blobs\n",
    "import sklearn\n",
    "X, y = make_blobs(n_samples=200, centers=((10, 5), (5, -5)), n_features=2,\n",
    "                   random_state=0, cluster_std=3)"
   ]
  },
  {
   "cell_type": "code",
   "execution_count": null,
   "metadata": {},
   "outputs": [],
   "source": [
    "plt.scatter(X[:, 0], X[:, 1], marker='o', c=y,\n",
    "            s=25, edgecolor='k')"
   ]
  },
  {
   "cell_type": "markdown",
   "metadata": {},
   "source": [
    "# Напоминание. Как это было в Sklearn:"
   ]
  },
  {
   "cell_type": "code",
   "execution_count": null,
   "metadata": {},
   "outputs": [],
   "source": [
    "from sklearn.linear_model import LogisticRegression"
   ]
  },
  {
   "cell_type": "code",
   "execution_count": null,
   "metadata": {},
   "outputs": [],
   "source": [
    "model = LogisticRegression()"
   ]
  },
  {
   "cell_type": "code",
   "execution_count": null,
   "metadata": {
    "scrolled": true
   },
   "outputs": [],
   "source": [
    "model.fit(X, y)"
   ]
  },
  {
   "cell_type": "code",
   "execution_count": null,
   "metadata": {},
   "outputs": [],
   "source": [
    "model.coef_"
   ]
  },
  {
   "cell_type": "code",
   "execution_count": null,
   "metadata": {},
   "outputs": [],
   "source": [
    "model.intercept_"
   ]
  },
  {
   "cell_type": "markdown",
   "metadata": {},
   "source": [
    "## Визуализируем разделяющую плоскость"
   ]
  },
  {
   "cell_type": "code",
   "execution_count": null,
   "metadata": {},
   "outputs": [],
   "source": [
    "w_1 = model.coef_[0][0]\n",
    "w_2 = model.coef_[0][1]\n",
    "w_0 = model.intercept_[0]\n",
    "\n",
    "plt.figure(figsize=(20,10))\n",
    "plt.scatter(X[:, 0], X[:, 1], marker='o', c=y,\n",
    "            s=25, edgecolor='k')\n",
    "plt.legend(['y = -1', 'y = 1'])\n",
    "x_arr = np.linspace(-3, 18, 1000)\n",
    "\n",
    "# y_arr = # ваш код здесь\n",
    "y_arr = -(w_0 + w_1 * x_arr) / w_2\n",
    "plt.plot(x_arr, y_arr)\n",
    "plt.show()"
   ]
  },
  {
   "cell_type": "markdown",
   "metadata": {},
   "source": [
    "# Pytorch"
   ]
  },
  {
   "cell_type": "code",
   "execution_count": null,
   "metadata": {},
   "outputs": [],
   "source": [
    "from sklearn.datasets import make_blobs\n",
    "import sklearn\n",
    "X, y = make_blobs(n_samples=200, centers=2, n_features=2,\n",
    "                   random_state=0, cluster_std=0.6)"
   ]
  },
  {
   "cell_type": "code",
   "execution_count": null,
   "metadata": {},
   "outputs": [],
   "source": [
    "type(X), type(y)"
   ]
  },
  {
   "cell_type": "code",
   "execution_count": null,
   "metadata": {},
   "outputs": [],
   "source": [
    "X = torch.tensor(X)\n",
    "y = torch.tensor(y)"
   ]
  },
  {
   "cell_type": "code",
   "execution_count": null,
   "metadata": {},
   "outputs": [],
   "source": [
    "type(X), type(y)"
   ]
  },
  {
   "cell_type": "code",
   "execution_count": null,
   "metadata": {},
   "outputs": [],
   "source": [
    "print (X.shape, y.shape)"
   ]
  },
  {
   "cell_type": "code",
   "execution_count": null,
   "metadata": {},
   "outputs": [],
   "source": [
    "w = torch.zeros(2)\n",
    "b = torch.zeros(1)"
   ]
  },
  {
   "cell_type": "code",
   "execution_count": null,
   "metadata": {},
   "outputs": [],
   "source": [
    "X[0]"
   ]
  },
  {
   "cell_type": "code",
   "execution_count": null,
   "metadata": {},
   "outputs": [],
   "source": [
    "y_pred = w * X + b"
   ]
  },
  {
   "cell_type": "code",
   "execution_count": null,
   "metadata": {},
   "outputs": [],
   "source": [
    "from sklearn.datasets import make_blobs\n",
    "import sklearn\n",
    "X, y = make_blobs(n_samples=200, centers=2, n_features=2,\n",
    "                   random_state=0, cluster_std=3)"
   ]
  },
  {
   "cell_type": "code",
   "execution_count": null,
   "metadata": {},
   "outputs": [],
   "source": [
    "len(X)"
   ]
  },
  {
   "cell_type": "code",
   "execution_count": null,
   "metadata": {},
   "outputs": [],
   "source": [
    "len(y)"
   ]
  },
  {
   "cell_type": "markdown",
   "metadata": {},
   "source": [
    "# Напишем свою логистическую регрессию на пайторче"
   ]
  },
  {
   "cell_type": "code",
   "execution_count": null,
   "metadata": {},
   "outputs": [],
   "source": [
    "X, y = make_blobs(n_samples=200, centers=((10, 5), (5, -5)), n_features=2,\n",
    "                   random_state=0, cluster_std=3)"
   ]
  },
  {
   "cell_type": "code",
   "execution_count": null,
   "metadata": {},
   "outputs": [],
   "source": [
    "type(X), type(y)"
   ]
  },
  {
   "cell_type": "code",
   "execution_count": null,
   "metadata": {},
   "outputs": [],
   "source": [
    "# cоздайте тензор из X и y\n",
    "X = torch.tensor(X)\n",
    "y = torch.tensor(y)"
   ]
  },
  {
   "cell_type": "code",
   "execution_count": null,
   "metadata": {},
   "outputs": [],
   "source": [
    "assert type(X) == torch.Tensor\n",
    "assert type(y) == torch.Tensor"
   ]
  },
  {
   "cell_type": "code",
   "execution_count": null,
   "metadata": {},
   "outputs": [],
   "source": [
    "w = torch.zeros(2, requires_grad=True, dtype=torch.double)\n",
    "b = torch.zeros(1, requires_grad=True, dtype=torch.double)"
   ]
  },
  {
   "cell_type": "code",
   "execution_count": null,
   "metadata": {},
   "outputs": [],
   "source": [
    "assert w.requires_grad\n",
    "assert len(w.shape) == 1\n",
    "assert w.shape[0] == X.shape[1]\n",
    "assert w.dtype == X.dtype\n",
    "assert b.requires_grad\n",
    "assert len(b.shape) == 1\n",
    "assert b.dtype == X.dtype"
   ]
  },
  {
   "cell_type": "code",
   "execution_count": null,
   "metadata": {},
   "outputs": [],
   "source": [
    "def binary_cross_entropy(y, y_predicted):\n",
    "    \"\"\"\n",
    "    y: binary tensor, shape: N, example: [0, 1, 0, 1, 1]\n",
    "    y_pred: tensor with values from 0 to 1. shape: N. example: [0.2, 0, 1, 0.75, 0.999]\n",
    "    \n",
    "    output: tensor, shape: N\n",
    "    \n",
    "    \"\"\"\n",
    "    return -(y * (torch.log(y_predicted)) + (1 - y) * torch.log(1 - y_predicted))"
   ]
  },
  {
   "cell_type": "code",
   "execution_count": null,
   "metadata": {},
   "outputs": [],
   "source": [
    "y_test = torch.tensor([1, 0, 1, 1])\n",
    "y_pred = torch.tensor([0.7, 0.3, 0.5, 0.9])\n",
    "bce_correct = torch.tensor([0.3567, 0.3567, 0.6931, 0.1054])\n",
    "bce_predicted = binary_cross_entropy(y_test, y_pred)\n",
    "assert bce_predicted.shape == y_test.shape\n",
    "assert torch.allclose(bce_predicted, bce_correct, rtol=1e-03)"
   ]
  },
  {
   "cell_type": "code",
   "execution_count": null,
   "metadata": {
    "scrolled": true
   },
   "outputs": [],
   "source": [
    "from IPython.display import clear_output\n",
    "\n",
    "for i in range(1000):\n",
    "    y_pred = torch.matmul(X, w) + b\n",
    "    y_pred = torch.sigmoid(y_pred)\n",
    "    loss = binary_cross_entropy(y, y_pred)\n",
    "    loss = torch.sum(loss)\n",
    "    \n",
    "    loss.backward()\n",
    "    \n",
    "    w.data -= 0.00001 * w.grad.data\n",
    "    b.data -= 0.00001 * b.grad.data\n",
    "\n",
    "    # zero gradients\n",
    "    w.grad.data.zero_()\n",
    "    b.grad.data.zero_()\n",
    "    \n",
    "    if (i+1)%5==0:\n",
    "    #if True:\n",
    "        clear_output(True)\n",
    "        plt.scatter(X[:, 0], X[:, 1], marker='o', c=y,\n",
    "            s=25, edgecolor='k')\n",
    "\n",
    "        \n",
    "        w_1 = w.data[0]\n",
    "        w_2 = w.data[1]\n",
    "        w_0 = b.data[0]\n",
    "        \n",
    "        \n",
    "        x_arr = torch.linspace(-10, 20, 1000)\n",
    "        plt.plot(x_arr, -(w_0 + w_1 * x_arr) / w_2)\n",
    "        plt.show()\n",
    "        \n",
    "        print (\"Iteration: {}, Loss: {}\".format(i, loss))\n"
   ]
  },
  {
   "cell_type": "markdown",
   "metadata": {},
   "source": [
    "# Теперь все за нас делает пайторч"
   ]
  },
  {
   "cell_type": "code",
   "execution_count": null,
   "metadata": {},
   "outputs": [],
   "source": [
    "from sklearn.datasets import make_blobs\n",
    "import sklearn\n",
    "X, y = make_blobs(n_samples=200, centers=2, n_features=2,\n",
    "                   random_state=0, cluster_std=0.6)"
   ]
  },
  {
   "cell_type": "code",
   "execution_count": null,
   "metadata": {},
   "outputs": [],
   "source": [
    "X, y = make_blobs(n_samples=200, centers=((10, 5), (5, -5)), n_features=2,\n",
    "                   random_state=0, cluster_std=3)"
   ]
  },
  {
   "cell_type": "code",
   "execution_count": null,
   "metadata": {},
   "outputs": [],
   "source": [
    "X = torch.tensor(X)\n",
    "y = torch.tensor(y)"
   ]
  },
  {
   "cell_type": "markdown",
   "metadata": {},
   "source": [
    "# Инициализируем модель"
   ]
  },
  {
   "cell_type": "code",
   "execution_count": null,
   "metadata": {},
   "outputs": [],
   "source": [
    "model = torch.nn.Linear(2, 1)\n",
    "criterion = torch.nn.BCELoss()\n",
    "\n",
    "optim = torch.optim.SGD(model.parameters(), lr=0.1)\n",
    "\n",
    "model.train()"
   ]
  },
  {
   "cell_type": "code",
   "execution_count": null,
   "metadata": {},
   "outputs": [],
   "source": [
    "model"
   ]
  },
  {
   "cell_type": "code",
   "execution_count": null,
   "metadata": {},
   "outputs": [],
   "source": [
    "model.weight"
   ]
  },
  {
   "cell_type": "code",
   "execution_count": null,
   "metadata": {},
   "outputs": [],
   "source": [
    "model.bias"
   ]
  },
  {
   "cell_type": "code",
   "execution_count": null,
   "metadata": {},
   "outputs": [],
   "source": [
    "model.weight.data.dtype"
   ]
  },
  {
   "cell_type": "code",
   "execution_count": null,
   "metadata": {},
   "outputs": [],
   "source": [
    "from IPython.display import clear_output\n",
    "\n",
    "\n",
    "for i in range(1000):\n",
    "    \n",
    "    # считаем предсказание\n",
    "\n",
    "    y_pred = torch.sigmoid(model(X.float()))\n",
    "    \n",
    "    \n",
    "    # считаем лосс\n",
    "    \n",
    "    loss = criterion(y_pred.flatten(), y.float())\n",
    "    \n",
    "    # прокидываем градиенты\n",
    "    \n",
    "    loss.backward()\n",
    "    \n",
    "    \n",
    "    # делаем шаг оптимизатором\n",
    "        \n",
    "    optim.step()     \n",
    "    \n",
    "    # зануляем градиенты\n",
    "    \n",
    "    optim.zero_grad() \n",
    "    \n",
    "    if (i+1)%5==0:\n",
    "        clear_output(True)\n",
    "        plt.scatter(X[:, 0], X[:, 1], marker='o', c=y,\n",
    "            s=25, edgecolor='k')\n",
    "\n",
    "        \n",
    "        w_1 = model.weight.data[0][0]\n",
    "        w_2 = model.weight.data[0][1]\n",
    "\n",
    "        w_0 = model.bias.data[0]\n",
    "        \n",
    "        \n",
    "        x_arr = torch.linspace(-10, 20, 1000)\n",
    "        plt.plot(x_arr, -(w_0 + w_1 * x_arr) / w_2)\n",
    "        plt.show()\n",
    "        \n",
    "        print (\"Iteration: {}, Loss: {}\".format(i, loss))"
   ]
  },
  {
   "cell_type": "markdown",
   "metadata": {},
   "source": [
    "# Окей, пусть теперь проблема нелинейная"
   ]
  },
  {
   "cell_type": "code",
   "execution_count": null,
   "metadata": {},
   "outputs": [],
   "source": [
    "from sklearn.datasets import make_moons"
   ]
  },
  {
   "cell_type": "code",
   "execution_count": null,
   "metadata": {},
   "outputs": [],
   "source": [
    "X, y = make_moons(n_samples=200, noise=.1, random_state=17)"
   ]
  },
  {
   "cell_type": "code",
   "execution_count": null,
   "metadata": {},
   "outputs": [],
   "source": [
    "plt.scatter(X[:, 0], X[:, 1], marker='o', c=y,\n",
    "            s=25, edgecolor='k')\n",
    "\n",
    "X = torch.tensor(X)\n",
    "y = torch.tensor(y)"
   ]
  },
  {
   "cell_type": "code",
   "execution_count": null,
   "metadata": {},
   "outputs": [],
   "source": [
    "model = torch.nn.Linear(2, 1)\n",
    "criterion = torch.nn.BCELoss()\n",
    "\n",
    "optim = torch.optim.SGD(model.parameters(), lr=0.01, momentum=0.9)\n",
    "\n",
    "model.train()"
   ]
  },
  {
   "cell_type": "code",
   "execution_count": null,
   "metadata": {},
   "outputs": [],
   "source": [
    "from IPython.display import clear_output\n",
    "\n",
    "\n",
    "for i in range(30000):\n",
    "\n",
    "    y_pred = torch.sigmoid(model(X.float()))\n",
    "\n",
    "    loss = criterion(y_pred.flatten(), y.float())\n",
    "    \n",
    "    loss.backward()\n",
    "    \n",
    "    optim.step()           \n",
    "    optim.zero_grad() \n",
    "    \n",
    "    if (i+1)%500==0:\n",
    "        clear_output(True)\n",
    "        plt.scatter(X[:, 0], X[:, 1], marker='o', c=y,\n",
    "            s=25, edgecolor='k')\n",
    "\n",
    "\n",
    "        w_1 = model.weight.data[0][0]\n",
    "        w_2 = model.weight.data[0][1] \n",
    "        w_0 = model.bias.data[0]\n",
    "        \n",
    "        \n",
    "        x_arr = torch.linspace(-2, 2, 1000)\n",
    "        plt.plot(x_arr, -(w_0 + w_1 * x_arr) / w_2)\n",
    "        plt.show()\n",
    "        \n",
    "        print (\"Iteration: {}, Loss: {}\".format(i, loss))"
   ]
  },
  {
   "cell_type": "markdown",
   "metadata": {},
   "source": [
    "# Визуализируем разделяющую плоскость"
   ]
  },
  {
   "cell_type": "code",
   "execution_count": null,
   "metadata": {},
   "outputs": [],
   "source": [
    "h = .02  # step size in the mesh\n",
    "cm = plt.cm.RdBu\n",
    "x_min, x_max = X[:, 0].min() - .5, X[:, 0].max() + .5\n",
    "y_min, y_max = X[:, 1].min() - .5, X[:, 1].max() + .5\n",
    "xx, yy = np.meshgrid(np.arange(x_min, x_max, h),\n",
    "                     np.arange(y_min, y_max, h))\n",
    "\n",
    "input_tensor = torch.from_numpy(np.c_[xx.ravel(), yy.ravel()]).float()\n",
    "model.eval()\n",
    "Z = torch.sigmoid(model(input_tensor))\n",
    "Z = Z.reshape(xx.shape)"
   ]
  },
  {
   "cell_type": "code",
   "execution_count": null,
   "metadata": {},
   "outputs": [],
   "source": [
    "plt.scatter(X[:, 0], X[:, 1], marker='o', c=y,\n",
    "            s=25, edgecolor='k')\n",
    "\n",
    "plt.contourf(xx, yy, Z.detach().numpy(), cmap=cm, alpha=.8)\n",
    "\n",
    "plt.show()"
   ]
  },
  {
   "cell_type": "markdown",
   "metadata": {},
   "source": [
    "# Делаем модель сложнее"
   ]
  },
  {
   "cell_type": "code",
   "execution_count": null,
   "metadata": {},
   "outputs": [],
   "source": [
    "plt.scatter(X[:, 0], X[:, 1], marker='o', c=y,\n",
    "            s=25, edgecolor='k')\n",
    "\n",
    "X = torch.tensor(X)\n",
    "y = torch.tensor(y)"
   ]
  },
  {
   "cell_type": "code",
   "execution_count": null,
   "metadata": {},
   "outputs": [],
   "source": [
    "from torch import nn"
   ]
  },
  {
   "cell_type": "markdown",
   "metadata": {},
   "source": [
    "# Cоберите двуслойную модель"
   ]
  },
  {
   "cell_type": "code",
   "execution_count": null,
   "metadata": {},
   "outputs": [],
   "source": [
    "model = nn.Sequential()\n",
    "model.add_module('first', nn.Linear(2, 2))\n",
    "model.add_module('first_activation', nn.Sigmoid())\n",
    "model.add_module('second', nn.Linear(2, 1))"
   ]
  },
  {
   "cell_type": "code",
   "execution_count": null,
   "metadata": {},
   "outputs": [],
   "source": [
    "criterion = torch.nn.BCELoss()\n",
    "\n",
    "optim = torch.optim.SGD(model.parameters(), lr=2.)\n",
    "\n",
    "model.train()"
   ]
  },
  {
   "cell_type": "code",
   "execution_count": null,
   "metadata": {},
   "outputs": [],
   "source": [
    "from IPython.display import clear_output\n",
    "\n",
    "\n",
    "h = .02  # step size in the mesh\n",
    "cm = plt.cm.RdBu\n",
    "x_min, x_max = X[:, 0].min() - .5, X[:, 0].max() + .5\n",
    "y_min, y_max = X[:, 1].min() - .5, X[:, 1].max() + .5\n",
    "xx, yy = np.meshgrid(np.arange(x_min, x_max, h),\n",
    "                     np.arange(y_min, y_max, h))\n",
    "\n",
    "\n",
    "\n",
    "model.train()\n",
    "for i in range(30000):\n",
    "    \n",
    "    y_pred = torch.sigmoid(model(X.float()))\n",
    "        \n",
    "    loss = criterion(y_pred.flatten(), y.float())\n",
    "    \n",
    "    loss.backward()\n",
    "        \n",
    "    optim.step()           \n",
    "    optim.zero_grad() \n",
    "    if (i+1)%500==0:\n",
    "        clear_output(True)\n",
    "        input_tensor = torch.from_numpy(np.c_[xx.ravel(), yy.ravel()]).float()\n",
    "        Z = torch.sigmoid(model(input_tensor))\n",
    "        Z = Z.reshape(xx.shape)\n",
    "\n",
    "        \n",
    "        plt.scatter(X[:, 0], X[:, 1], marker='o', c=y,\n",
    "            s=25, edgecolor='k')\n",
    "\n",
    "        plt.contourf(xx, yy, Z.detach().numpy(), cmap=cm, alpha=.8)\n",
    "\n",
    "        plt.show()\n",
    "        \n",
    "        \n",
    "        print (\"Iteration: {}, Loss: {}\".format(i, loss))"
   ]
  },
  {
   "cell_type": "markdown",
   "metadata": {},
   "source": [
    "# Усложним модель (увеличим количество слоев)"
   ]
  },
  {
   "cell_type": "code",
   "execution_count": null,
   "metadata": {},
   "outputs": [],
   "source": [
    "model = nn.Sequential()\n",
    "model.add_module('first', nn.Linear(2, 2))\n",
    "model.add_module('first_activation', nn.Sigmoid())\n",
    "model.add_module('second', nn.Linear(2, 2))\n",
    "model.add_module('second_activation', nn.Sigmoid())\n",
    "model.add_module('third', nn.Linear(2, 1))"
   ]
  },
  {
   "cell_type": "code",
   "execution_count": null,
   "metadata": {},
   "outputs": [],
   "source": [
    "criterion = torch.nn.BCELoss()\n",
    "\n",
    "optim = torch.optim.SGD(model.parameters(), lr=2., momentum=0.9)\n",
    "\n",
    "model.train()"
   ]
  },
  {
   "cell_type": "code",
   "execution_count": null,
   "metadata": {
    "scrolled": true
   },
   "outputs": [],
   "source": [
    "from IPython.display import clear_output\n",
    "\n",
    "\n",
    "h = .02  # step size in the mesh\n",
    "cm = plt.cm.RdBu\n",
    "x_min, x_max = X[:, 0].min() - .5, X[:, 0].max() + .5\n",
    "y_min, y_max = X[:, 1].min() - .5, X[:, 1].max() + .5\n",
    "xx, yy = np.meshgrid(np.arange(x_min, x_max, h),\n",
    "                     np.arange(y_min, y_max, h))\n",
    "\n",
    "\n",
    "\n",
    "model.train()\n",
    "for i in range(30000):\n",
    "    \n",
    "    y_pred = torch.sigmoid(model(X.float()))\n",
    "    \n",
    "    loss = criterion(y_pred.flatten(), y.float())\n",
    "    \n",
    "    loss.backward()\n",
    "        \n",
    "    optim.step()           \n",
    "    optim.zero_grad() \n",
    "    if (i+1)%500==0:\n",
    "        clear_output(True)\n",
    "        input_tensor = torch.from_numpy(np.c_[xx.ravel(), yy.ravel()]).float()\n",
    "        Z = torch.sigmoid(model(input_tensor))\n",
    "        Z = Z.reshape(xx.shape)\n",
    "\n",
    "        \n",
    "        plt.scatter(X[:, 0], X[:, 1], marker='o', c=y,\n",
    "            s=25, edgecolor='k')\n",
    "\n",
    "        plt.contourf(xx, yy, Z.detach().numpy(), cmap=cm, alpha=.8)\n",
    "\n",
    "        plt.show()\n",
    "        \n",
    "        \n",
    "        print (\"Iteration: {}, Loss: {}\".format(i, loss))"
   ]
  },
  {
   "cell_type": "markdown",
   "metadata": {},
   "source": [
    "# Еще усложним модель (увеличим размерность скрытых слоев)"
   ]
  },
  {
   "cell_type": "code",
   "execution_count": null,
   "metadata": {},
   "outputs": [],
   "source": [
    "model = nn.Sequential()\n",
    "model.add_module('first', nn.Linear(2, 5))\n",
    "model.add_module('first_activation', nn.Sigmoid())\n",
    "model.add_module('second', nn.Linear(5, 5))\n",
    "model.add_module('second_activation', nn.Sigmoid())\n",
    "model.add_module('third', nn.Linear(5, 1))\n",
    "model.add_module('third_activation', nn.Sigmoid())"
   ]
  },
  {
   "cell_type": "code",
   "execution_count": null,
   "metadata": {},
   "outputs": [],
   "source": [
    "criterion = torch.nn.BCELoss()\n",
    "\n",
    "optim = torch.optim.SGD(model.parameters(), lr=2, momentum=0.9)\n",
    "\n",
    "model.train()"
   ]
  },
  {
   "cell_type": "code",
   "execution_count": null,
   "metadata": {},
   "outputs": [],
   "source": [
    "from IPython.display import clear_output\n",
    "\n",
    "\n",
    "h = .02  # step size in the mesh\n",
    "cm = plt.cm.RdBu\n",
    "x_min, x_max = X[:, 0].min() - .5, X[:, 0].max() + .5\n",
    "y_min, y_max = X[:, 1].min() - .5, X[:, 1].max() + .5\n",
    "xx, yy = np.meshgrid(np.arange(x_min, x_max, h),\n",
    "                     np.arange(y_min, y_max, h))\n",
    "\n",
    "\n",
    "\n",
    "model.train()\n",
    "for i in range(3000):\n",
    "\n",
    "    y_pred = model(X.float())\n",
    "        \n",
    "    loss = criterion(y_pred.flatten(), y.float())\n",
    "    \n",
    "    loss.backward()\n",
    "    \n",
    "    optim.step()           \n",
    "    optim.zero_grad() \n",
    "    if (i+1)%50==0:\n",
    "        clear_output(True)\n",
    "        input_tensor = torch.from_numpy(np.c_[xx.ravel(), yy.ravel()]).float()\n",
    "        Z = torch.sigmoid(model(input_tensor))\n",
    "        Z = Z.reshape(xx.shape)\n",
    "\n",
    "        \n",
    "        plt.scatter(X[:, 0], X[:, 1], marker='o', c=y,\n",
    "            s=25, edgecolor='k')\n",
    "\n",
    "        plt.contourf(xx, yy, Z.detach().numpy(), cmap=cm, alpha=.8)\n",
    "\n",
    "        plt.show()\n",
    "        \n",
    "        \n",
    "        print (\"Iteration: {}, Loss: {}\".format(i, loss))"
   ]
  },
  {
   "cell_type": "markdown",
   "metadata": {},
   "source": [
    "# Сделаем > 2 классов"
   ]
  },
  {
   "cell_type": "code",
   "execution_count": null,
   "metadata": {},
   "outputs": [],
   "source": [
    "from sklearn.datasets import make_circles"
   ]
  },
  {
   "cell_type": "code",
   "execution_count": null,
   "metadata": {},
   "outputs": [],
   "source": [
    "# blobs with varied variances\n",
    "X, y = make_blobs(n_samples=400,\n",
    "                             cluster_std=[1.0, 1.5, 0.5],\n",
    "                             random_state=17)"
   ]
  },
  {
   "cell_type": "code",
   "execution_count": null,
   "metadata": {},
   "outputs": [],
   "source": [
    "plt.scatter(X[:, 0], X[:, 1], marker='o', c=y,\n",
    "            s=25, edgecolor='k')\n",
    "\n",
    "X = torch.tensor(X)\n",
    "y = torch.tensor(y)"
   ]
  },
  {
   "cell_type": "code",
   "execution_count": null,
   "metadata": {},
   "outputs": [],
   "source": [
    "model = nn.Sequential()\n",
    "model.add_module('first', nn.Linear(2, 5))\n",
    "model.add_module('first_activation', nn.Sigmoid())\n",
    "model.add_module('second', nn.Linear(5, 5))\n",
    "model.add_module('second_activation', nn.Sigmoid())\n",
    "model.add_module('third', nn.Linear(5, 3))"
   ]
  },
  {
   "cell_type": "code",
   "execution_count": null,
   "metadata": {},
   "outputs": [],
   "source": [
    "criterion = torch.nn.CrossEntropyLoss()\n",
    "\n",
    "optim = torch.optim.SGD(model.parameters(), lr=0.1)\n",
    "\n",
    "model.train()"
   ]
  },
  {
   "cell_type": "code",
   "execution_count": null,
   "metadata": {},
   "outputs": [],
   "source": [
    "from IPython.display import clear_output\n",
    "\n",
    "\n",
    "h = .02  # step size in the mesh\n",
    "cm = plt.cm.RdBu\n",
    "x_min, x_max = X[:, 0].min() - .5, X[:, 0].max() + .5\n",
    "y_min, y_max = X[:, 1].min() - .5, X[:, 1].max() + .5\n",
    "xx, yy = np.meshgrid(np.arange(x_min, x_max, h),\n",
    "                     np.arange(y_min, y_max, h))\n",
    "\n",
    "\n",
    "\n",
    "model.train()\n",
    "for i in range(1000):\n",
    "    \n",
    "    y_pred = model(X.float())\n",
    "    \n",
    "    loss = criterion(y_pred, y)\n",
    "    \n",
    "    loss.backward()\n",
    "    \n",
    "    optim.step()           \n",
    "    optim.zero_grad() \n",
    "    if (i+1)%25==0:\n",
    "        clear_output(True)\n",
    "        input_tensor = torch.from_numpy(np.c_[xx.ravel(), yy.ravel()]).float()\n",
    "        Z = model(input_tensor)\n",
    "        Z = torch.argmax(Z, axis=1)\n",
    "        Z = Z.reshape(xx.shape)\n",
    "        \n",
    "        plt.scatter(X[:, 0], X[:, 1], marker='o', c=y,\n",
    "            s=25, edgecolor='k')\n",
    "\n",
    "        plt.contourf(xx, yy, Z.detach().numpy(), cmap=cm, alpha=.8)\n",
    "        \n",
    "        plt.show()\n",
    "        \n",
    "        \n",
    "        print (\"Iteration: {}, Loss: {}\".format(i, loss))"
   ]
  },
  {
   "cell_type": "code",
   "execution_count": null,
   "metadata": {},
   "outputs": [],
   "source": []
  }
 ],
 "metadata": {
  "kernelspec": {
   "display_name": "Python 3",
   "language": "python",
   "name": "python3"
  },
  "language_info": {
   "codemirror_mode": {
    "name": "ipython",
    "version": 3
   },
   "file_extension": ".py",
   "mimetype": "text/x-python",
   "name": "python",
   "nbconvert_exporter": "python",
   "pygments_lexer": "ipython3",
   "version": "3.6.9"
  }
 },
 "nbformat": 4,
 "nbformat_minor": 4
}
